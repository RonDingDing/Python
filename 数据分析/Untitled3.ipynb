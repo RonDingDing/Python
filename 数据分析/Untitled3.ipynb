{
 "cells": [
  {
   "cell_type": "code",
   "execution_count": 31,
   "metadata": {},
   "outputs": [],
   "source": [
    "import pandas as pd\n",
    "import os\n",
    "from pprint import pprint"
   ]
  },
  {
   "cell_type": "markdown",
   "metadata": {},
   "source": [
    "## 定义一些需要用到的函数：比如打印前五个。"
   ]
  },
  {
   "cell_type": "code",
   "execution_count": 32,
   "metadata": {},
   "outputs": [],
   "source": [
    "root_folder = \"C:/Users/Administrator/Desktop/03.31\"\n",
    "f = lambda x: os.path.join(root_folder, x)\n",
    "printf = lambda x: x[:5] if len(x)> 10 else x"
   ]
  },
  {
   "cell_type": "markdown",
   "metadata": {},
   "source": [
    "## 读取 Salaries.csv"
   ]
  },
  {
   "cell_type": "code",
   "execution_count": 33,
   "metadata": {},
   "outputs": [
    {
     "data": {
      "text/html": [
       "<div>\n",
       "<style scoped>\n",
       "    .dataframe tbody tr th:only-of-type {\n",
       "        vertical-align: middle;\n",
       "    }\n",
       "\n",
       "    .dataframe tbody tr th {\n",
       "        vertical-align: top;\n",
       "    }\n",
       "\n",
       "    .dataframe thead th {\n",
       "        text-align: right;\n",
       "    }\n",
       "</style>\n",
       "<table border=\"1\" class=\"dataframe\">\n",
       "  <thead>\n",
       "    <tr style=\"text-align: right;\">\n",
       "      <th></th>\n",
       "      <th>yearID</th>\n",
       "      <th>teamID</th>\n",
       "      <th>lgID</th>\n",
       "      <th>playerID</th>\n",
       "      <th>salary</th>\n",
       "    </tr>\n",
       "  </thead>\n",
       "  <tbody>\n",
       "    <tr>\n",
       "      <th>0</th>\n",
       "      <td>1985</td>\n",
       "      <td>ATL</td>\n",
       "      <td>NL</td>\n",
       "      <td>barkele01</td>\n",
       "      <td>870000</td>\n",
       "    </tr>\n",
       "    <tr>\n",
       "      <th>1</th>\n",
       "      <td>1985</td>\n",
       "      <td>ATL</td>\n",
       "      <td>NL</td>\n",
       "      <td>bedrost01</td>\n",
       "      <td>550000</td>\n",
       "    </tr>\n",
       "    <tr>\n",
       "      <th>2</th>\n",
       "      <td>1985</td>\n",
       "      <td>ATL</td>\n",
       "      <td>NL</td>\n",
       "      <td>benedbr01</td>\n",
       "      <td>545000</td>\n",
       "    </tr>\n",
       "    <tr>\n",
       "      <th>3</th>\n",
       "      <td>1985</td>\n",
       "      <td>ATL</td>\n",
       "      <td>NL</td>\n",
       "      <td>campri01</td>\n",
       "      <td>633333</td>\n",
       "    </tr>\n",
       "    <tr>\n",
       "      <th>4</th>\n",
       "      <td>1985</td>\n",
       "      <td>ATL</td>\n",
       "      <td>NL</td>\n",
       "      <td>ceronri01</td>\n",
       "      <td>625000</td>\n",
       "    </tr>\n",
       "  </tbody>\n",
       "</table>\n",
       "</div>"
      ],
      "text/plain": [
       "   yearID teamID lgID   playerID  salary\n",
       "0    1985    ATL   NL  barkele01  870000\n",
       "1    1985    ATL   NL  bedrost01  550000\n",
       "2    1985    ATL   NL  benedbr01  545000\n",
       "3    1985    ATL   NL   campri01  633333\n",
       "4    1985    ATL   NL  ceronri01  625000"
      ]
     },
     "execution_count": 33,
     "metadata": {},
     "output_type": "execute_result"
    }
   ],
   "source": [
    "salaries = pd.read_csv(f('Salaries.csv'))\n",
    "printf(salaries)"
   ]
  },
  {
   "cell_type": "code",
   "execution_count": 34,
   "metadata": {},
   "outputs": [
    {
     "name": "stdout",
     "output_type": "stream",
     "text": [
      "5155\n",
      "['barkele01' 'bedrost01' 'benedbr01' ... 'travide01' 'riverfe01'\n",
      " 'rossjo01']\n"
     ]
    }
   ],
   "source": [
    "all_player = salaries['playerID'].unique()\n",
    "print(len(all_player))\n",
    "print(all_player)"
   ]
  },
  {
   "cell_type": "markdown",
   "metadata": {},
   "source": [
    "## 创建无限循环生成器，循环生成样式"
   ]
  },
  {
   "cell_type": "code",
   "execution_count": 35,
   "metadata": {},
   "outputs": [],
   "source": [
    "from itertools import cycle\n",
    "from random import shuffle\n",
    "def yielder(members):\n",
    "    if not isinstance(members, (list, tuple)):\n",
    "        raise TypeError(\"Not a list or tuple!\")\n",
    "    shuffle(members)\n",
    "    infinite_list = cycle(members) \n",
    "    for i in infinite_list:\n",
    "        yield i\n",
    "        \n",
    "line_style = yielder(['-.', ':', '--', '-'])\n",
    "colors = yielder(['b', 'g', 'r', 'c', 'm', 'y', 'k'])\n",
    "markers = yielder(['.', ',', 'o', 'v', '^','<', '>', '1', '2', '3', '4', 's', 'p', '*', 'h', 'H', '+', 'x', 'D', 'd', '|', '_'])\n",
    " "
   ]
  },
  {
   "cell_type": "markdown",
   "metadata": {},
   "source": [
    "## 另一种pyplot内置方法 "
   ]
  },
  {
   "cell_type": "code",
   "execution_count": 36,
   "metadata": {},
   "outputs": [],
   "source": [
    "from cycler import cycler\n",
    "\n",
    "li = ['-.', ':', '--', '-']\n",
    "co = ['b', 'g', 'r', 'c', 'm', 'y', 'k']\n",
    "ma = ['.', ',', 'o', 'v', '^','<', '>', '1', '2', '3', '4', 's', 'p', '*', 'h', 'H', '+', 'x', 'D', 'd', '|', '_']\n",
    "\n",
    "def make_style():\n",
    "    shuffle(li)\n",
    "    shuffle(co)\n",
    "    shuffle(ma)\n",
    "\n",
    "    line_style2 = cycler(linestyle=li)\n",
    "    colors2 = cycler(color=co)\n",
    "    markers2 = cycler(marker=ma)\n",
    "\n",
    "    style = line_style2 * colors2 * markers2\n",
    "    \n",
    "    return style\n"
   ]
  },
  {
   "cell_type": "markdown",
   "metadata": {},
   "source": [
    "## 以下函数查看某个球员的年薪变化："
   ]
  },
  {
   "cell_type": "code",
   "execution_count": 37,
   "metadata": {},
   "outputs": [],
   "source": [
    "import matplotlib.pyplot as plt\n",
    "import matplotlib.ticker as ticker\n",
    "\n",
    "def show_salary(*player_ids):    \n",
    "       \n",
    "    \n",
    "    if not set(player_ids).issubset(set(all_player)):\n",
    "        raise TypeError(\"The player ID specified are not all in the table! \")\n",
    "    \n",
    "    fig = plt.figure()\n",
    "    ax1 = fig.add_subplot(1,1,1)       \n",
    "    tick_spacing = 2\n",
    "    ax1.xaxis.set_major_locator(ticker.MultipleLocator(tick_spacing))\n",
    "    plt.xlabel('Year')\n",
    "    plt.ylabel('Salary')\n",
    "    styler = make_style()\n",
    "    ax1.set_prop_cycle(styler)\n",
    "    \n",
    "    for i in player_ids:\n",
    "        sub_table = salaries[salaries['playerID'] == i]    \n",
    "        sub_table = sub_table[sub_table['yearID'] != 0]    \n",
    "        sub_table = sub_table.sort_values(by='yearID') \n",
    "        x = [str(i) for i in sub_table['yearID']]\n",
    "        y = list(sub_table['salary']) \n",
    "        new = pd.DataFrame(y, index=x)\n",
    "        # ax1.plot(new, marker=r'%s' % next(markers), color=u'%s' % next(colors), linestyle=next(line_style), label=str(i))\n",
    "        ax1.plot(new)\n",
    "    #plt.legend()\n",
    "    plt.show()\n",
    " "
   ]
  },
  {
   "cell_type": "code",
   "execution_count": 38,
   "metadata": {},
   "outputs": [
    {
     "data": {
      "image/png": "[encoded data removed]",
      "text/plain": [
       "<matplotlib.figure.Figure at 0x1eeafc310f0>"
      ]
     },
     "metadata": {},
     "output_type": "display_data"
    }
   ],
   "source": [
    "show_salary('bedrost01')"
   ]
  },
  {
   "cell_type": "markdown",
   "metadata": {},
   "source": [
    "## 到这个网站去搜寻缩写含义 http://www.softball.com.cn/portal.php?mod=view&aid=113"
   ]
  },
  {
   "cell_type": "markdown",
   "metadata": {},
   "source": [
    "打席（PA）：一名打者上场打击的次数，包括牺牲打，保送和触身球都会被记录在打席之中。一名大联盟的主力球员一个赛季一般会有500个打席左右。\n",
    "\n",
    "打数（AB）：一名打者上场打击的次数，但是并不包括牺牲打，保送，触身球和野手犯规，因此打数必然小于打席。\n",
    "\n",
    "得分（R）：一名球员在上垒之后，在这半局结束前按顺序绕垒一圈回到本垒便得一分。而这也是衡量一场比赛胜败的唯一数据。一名优秀的大联盟打者，一个赛季一般都可以跑回100分。\n",
    "\n",
    "安打（H）：安全打击的简称，包括一垒打，二垒打，三垒打和全垒打。一名顶级的大联盟打者一个赛季能取得200支安打。如果生涯能够取得3000安打的里程碑则被认为是肯定的名人堂球员。\n"
   ]
  },
  {
   "cell_type": "markdown",
   "metadata": {},
   "source": [
    "## 得到解释后创建解释字典。\n",
    "\n",
    "{英文术语: [中文翻译，解释]}"
   ]
  },
  {
   "cell_type": "code",
   "execution_count": 47,
   "metadata": {},
   "outputs": [],
   "source": [
    "with open(f('规则.txt')) as file:\n",
    "    content = file.read()"
   ]
  },
  {
   "cell_type": "code",
   "execution_count": 48,
   "metadata": {},
   "outputs": [],
   "source": [
    "import re\n",
    "letters = re.compile(r'[A-Z]')"
   ]
  },
  {
   "cell_type": "code",
   "execution_count": 99,
   "metadata": {},
   "outputs": [
    {
     "data": {
      "text/plain": [
       "['打席（PA）：一名打者上场打击的次数，包括牺牲打，保送和触身球都会被记录在打席之中。一名大联盟的主力球员一个赛季一般会有500个打席左右。',\n",
       " '打数（AB）：一名打者上场打击的次数，但是并不包括牺牲打，保送，触身球和野手犯规，因此打数必然小于打席。',\n",
       " '得分（R）：一名球员在上垒之后，在这半局结束前按顺序绕垒一圈回到本垒便得一分。而这也是衡量一场比赛胜败的唯一数据。一名优秀的大联盟打者，一个赛季一般都可以跑回100分。',\n",
       " '安打（H）：安全打击的简称，包括一垒打，二垒打，三垒打和全垒打。一名顶级的大联盟打者一个赛季能取得200支安打。如果生涯能够取得3000安打的里程碑则被认为是肯定的名人堂球员。',\n",
       " '全垒打（HR）：全垒打分两种，一为场内全垒打，即击出的球还在场内，但是在防守球员将球传回来之前绕垒一圈，另一种为场外全垒打，即为将球击出全垒打墙以外。一名优秀的大联盟打者一个赛季能够取得30支以上的全垒打。如果生涯取得500支全垒打的里程碑则被认为是名人堂球员。但是在死球时代（1920年以前），因为用球不同，击出全垒打比现在困难很多，所以那个时代的全垒打数据与今日有很大不同。']"
      ]
     },
     "execution_count": 99,
     "metadata": {},
     "output_type": "execute_result"
    }
   ],
   "source": [
    "rules = content.split('\\n')\n",
    "rules = [i for i in rules if re.search(letters, i)]\n",
    "printf(rules)"
   ]
  },
  {
   "cell_type": "code",
   "execution_count": 100,
   "metadata": {},
   "outputs": [
    {
     "name": "stdout",
     "output_type": "stream",
     "text": [
      "{'A': '助攻数',\n",
      " 'AB': '打数',\n",
      " 'BA': '打击率',\n",
      " 'BB': '保送',\n",
      " 'BB/9': '保送比',\n",
      " 'BF': '面对打者的数量',\n",
      " 'BK': '投手犯规',\n",
      " 'CG': '完投',\n",
      " 'CH': '守备机会',\n",
      " 'CS': '盗垒失败',\n",
      " 'E': '守备失误',\n",
      " 'ER': '自责分',\n",
      " 'ERA': '防御率',\n",
      " 'ERA+': '调整防御率',\n",
      " 'FLD%': '守备率',\n",
      " 'GDP': '滚地球双杀打',\n",
      " 'H': '被安打数',\n",
      " 'H/9': '安打比',\n",
      " 'HBP': '触身球',\n",
      " 'HR': '被击出的全垒打数',\n",
      " 'HR/9': '全垒打比',\n",
      " 'IBB': '故意四坏球',\n",
      " 'IP': '投球局数',\n",
      " 'L': '败投',\n",
      " 'OBP': '上垒率',\n",
      " 'OPS': '攻击指数',\n",
      " 'OPS+': '调整攻击指数',\n",
      " 'PA': '打席',\n",
      " 'PO': '封杀',\n",
      " 'R': '失分',\n",
      " 'RBI': '打点',\n",
      " 'SB': '盗垒',\n",
      " 'SF': '牺牲打',\n",
      " 'SH': '牺牲触击',\n",
      " 'SHO': '完封',\n",
      " 'SLG': '长打率',\n",
      " 'SO': '三振',\n",
      " 'SO/9': '三振比',\n",
      " 'SO/BB': '三振保送比',\n",
      " 'SV': '救援点',\n",
      " 'TB': '垒打数',\n",
      " 'W': '胜投',\n",
      " 'W-L%': '胜率',\n",
      " 'WAR': '额外胜利数',\n",
      " 'WHIP': '平均每局被击出的安打数和保送数'}\n"
     ]
    }
   ],
   "source": [
    "tr_dic = {}\n",
    "info_dic = {}\n",
    "\n",
    "for each_rule in rules:\n",
    "    first_split = each_rule.split('（')\n",
    "    chinese = first_split[0].strip()\n",
    "    second_split = first_split[1].split('）：')\n",
    "    english = second_split[0].strip()\n",
    "    explanation = second_split[1].strip()\n",
    "    tr_dic.update({english: chinese})\n",
    "    info_dic.update({chinese: explanation})\n",
    "    \n",
    "pprint(tr_dic)"
   ]
  },
  {
   "cell_type": "markdown",
   "metadata": {},
   "source": [
    "## 获取每个球员在不同表之中的记录"
   ]
  },
  {
   "cell_type": "code",
   "execution_count": 101,
   "metadata": {},
   "outputs": [],
   "source": [
    "batting = pd.read_csv(f('Batting.csv'))\n",
    "batting_post = pd.read_csv(f('BattingPost.csv'))\n",
    "fielding = pd.read_csv(f('Fielding.csv'))\n",
    "pitching = pd.read_csv(f('Pitching.csv'))\n",
    "pitching_post = pd.read_csv(f('PitchingPost.csv'))"
   ]
  },
  {
   "cell_type": "code",
   "execution_count": 102,
   "metadata": {},
   "outputs": [],
   "source": [
    "def find_player_in_table(table, player):\n",
    "    tmp_table = table[table['playerID'] == player] \n",
    "    chi_col = [tr_dic.get(i, i) for i in tmp_table.columns]\n",
    "    chi_col = tmp_table.columns    \n",
    "    tmp_table = pd.DataFrame(tmp_table, columns=chi_col).fillna(0)\n",
    "    return tmp_table "
   ]
  },
  {
   "cell_type": "code",
   "execution_count": 103,
   "metadata": {},
   "outputs": [],
   "source": [
    "def find_player_in_all_tables(player):\n",
    "    all_tables = [salaries, batting, batting_post, fielding, pitching, pitching_post]\n",
    "    return [find_player_in_table(i, player) \n",
    "            for i in all_tables]        "
   ]
  },
  {
   "cell_type": "code",
   "execution_count": 125,
   "metadata": {},
   "outputs": [
    {
     "data": {
      "text/plain": [
       "4510    0.25\n",
       "dtype: float64"
      ]
     },
     "execution_count": 125,
     "metadata": {},
     "output_type": "execute_result"
    }
   ],
   "source": [
    "def BA(table, player):\n",
    "    '''\n",
    "    打击率 BA= 安打数H / 打数AB\n",
    "    '''     \n",
    "    dataframes = table[table['playerID'] == player]     \n",
    "    return dataframes['H'] / dataframes['AB']\n",
    " \n",
    "BA(batting_post, 'benedbr01')"
   ]
  },
  {
   "cell_type": "code",
   "execution_count": 133,
   "metadata": {},
   "outputs": [],
   "source": [
    "def OBP(table, player):\n",
    "    \"\"\"OBP = (安打数H + 保送数 BB+ 触身球数HBP)/(打数AB + 保送数 BB+ 触身球数HBP + 牺牲打数SF)\"\"\"\n",
    "    dataframes = table[table['playerID'] == player]\n",
    "    return ((dataframes['H'] + dataframes['BB'] + dataframes['HBP'])/ \n",
    "            (dataframes['AB'] + dataframes['BB'] + dataframes['HBP'] + dataframes['SF']))\n",
    "    "
   ]
  },
  {
   "cell_type": "code",
   "execution_count": 134,
   "metadata": {},
   "outputs": [
    {
     "data": {
      "text/plain": [
       "4510    0.4\n",
       "dtype: float64"
      ]
     },
     "execution_count": 134,
     "metadata": {},
     "output_type": "execute_result"
    }
   ],
   "source": [
    "BA(batting_post,'bedrost01')\n",
    "OBP(batting_post, 'benedbr01')"
   ]
  },
  {
   "cell_type": "code",
   "execution_count": null,
   "metadata": {},
   "outputs": [],
   "source": []
  },
  {
   "cell_type": "code",
   "execution_count": null,
   "metadata": {},
   "outputs": [],
   "source": []
  }
 ],
 "metadata": {
  "kernelspec": {
   "display_name": "Python 3",
   "language": "python",
   "name": "python3"
  },
  "language_info": {
   "codemirror_mode": {
    "name": "ipython",
    "version": 3
   },
   "file_extension": ".py",
   "mimetype": "text/x-python",
   "name": "python",
   "nbconvert_exporter": "python",
   "pygments_lexer": "ipython3",
   "version": "3.6.4"
  }
 },
 "nbformat": 4,
 "nbformat_minor": 2
}
